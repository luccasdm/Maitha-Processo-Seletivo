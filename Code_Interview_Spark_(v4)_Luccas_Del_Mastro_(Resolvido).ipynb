{
  "nbformat": 4,
  "nbformat_minor": 0,
  "metadata": {
    "colab": {
      "provenance": []
    },
    "kernelspec": {
      "name": "python3",
      "display_name": "Python 3"
    },
    "language_info": {
      "name": "python"
    }
  },
  "cells": [
    {
      "cell_type": "code",
      "source": [
        "!pip install ipytest pyspark > /dev/null 2>&1"
      ],
      "metadata": {
        "id": "0PUoFSlmtQe3"
      },
      "execution_count": 1,
      "outputs": []
    },
    {
      "cell_type": "code",
      "source": [
        "import ipytest\n",
        "\n",
        "ipytest.autoconfig()"
      ],
      "metadata": {
        "id": "R1PF-3TbuWdJ"
      },
      "execution_count": 2,
      "outputs": []
    },
    {
      "cell_type": "markdown",
      "source": [
        "# Descrição do desafio:\n",
        "\n",
        "Suponha que você tenha um dataframe com as seguintes colunas:\n",
        "\n",
        "- `Data`: data da dívida (formato \"yyyy-MM-dd\")\n",
        "- `Devedor`: nome do devedor\n",
        "- `Credor`: nome do credor\n",
        "- `Valor`: valor da dívida\n",
        "\n",
        "Seu desafio é criar um novo dataframe que contenha as seguintes informações:\n",
        "\n",
        "- O valor total das dívidas por devedor, ordenado em ordem decrescente de dívida\n",
        "- O valor total das dívidas por credor, ordenado em ordem decrescente de dívida\n",
        "- O valor total das dívidas por mês (formato \"MM/yyyy\"), ordenado em ordem crescente de data\n",
        "\n",
        "Como bônus, um dataframe com as seguintes informações:\n",
        "\n",
        "- `Devedor`: nome do devedor\n",
        "- `Credor`: nome do credor\n",
        "- `Data`: data da dívida (formato \"MM/yyyy\")\n",
        "- `Divida`: valor total das dívidas do mês"
      ],
      "metadata": {
        "id": "0Whpigh7sjx7"
      }
    },
    {
      "cell_type": "code",
      "source": [
        "from pyspark.sql import SparkSession\n",
        "from pyspark.sql.functions import col, sum, desc, asc, date_format\n",
        "\n",
        "spark = SparkSession.builder.appName(\"Desafio DataFrame\").getOrCreate()\n",
        "\n",
        "data = [(\"2021-01-01\", \"Devedor A\", \"Credor 1\", 100.0),\n",
        "        (\"2021-01-01\", \"Devedor B\", \"Credor 1\", 50.0),\n",
        "        (\"2021-02-02\", \"Devedor C\", \"Credor 2\", 75.0),\n",
        "        (\"2021-02-02\", \"Devedor D\", \"Credor 2\", 125.0),\n",
        "        (\"2021-03-03\", \"Devedor A\", \"Credor 1\", 200.0),\n",
        "        (\"2021-03-03\", \"Devedor B\", \"Credor 1\", 150.0),\n",
        "        (\"2021-04-04\", \"Devedor C\", \"Credor 2\", 100.0),\n",
        "        (\"2021-04-04\", \"Devedor D\", \"Credor 2\", 50.0)]\n",
        "\n",
        "df = spark.createDataFrame(data, [\"Data\", \"Devedor\", \"Credor\", \"Valor\"])"
      ],
      "metadata": {
        "id": "FGNfK5QCkqcK"
      },
      "execution_count": 74,
      "outputs": []
    },
    {
      "cell_type": "code",
      "source": [
        "df.show(10, False)"
      ],
      "metadata": {
        "colab": {
          "base_uri": "https://localhost:8080/"
        },
        "id": "Uoo3ojN7gDNC",
        "outputId": "896d5830-6f6c-4ec3-b28e-b5f80bec87a0"
      },
      "execution_count": 7,
      "outputs": [
        {
          "output_type": "stream",
          "name": "stdout",
          "text": [
            "+----------+---------+--------+-----+\n",
            "|Data      |Devedor  |Credor  |Valor|\n",
            "+----------+---------+--------+-----+\n",
            "|2021-01-01|Devedor A|Credor 1|100.0|\n",
            "|2021-01-01|Devedor B|Credor 1|50.0 |\n",
            "|2021-02-02|Devedor C|Credor 2|75.0 |\n",
            "|2021-02-02|Devedor D|Credor 2|125.0|\n",
            "|2021-03-03|Devedor A|Credor 1|200.0|\n",
            "|2021-03-03|Devedor B|Credor 1|150.0|\n",
            "|2021-04-04|Devedor C|Credor 2|100.0|\n",
            "|2021-04-04|Devedor D|Credor 2|50.0 |\n",
            "+----------+---------+--------+-----+\n",
            "\n"
          ]
        }
      ]
    },
    {
      "cell_type": "code",
      "source": [
        "from pyspark.sql import functions as f"
      ],
      "metadata": {
        "id": "ZFtp0uSjhdAK"
      },
      "execution_count": 21,
      "outputs": []
    },
    {
      "cell_type": "markdown",
      "source": [
        "# **PySpark**"
      ],
      "metadata": {
        "id": "SnaHm5Bzrp9_"
      }
    },
    {
      "cell_type": "code",
      "source": [
        "# Valor total das dívidas por devedor, ordenado em ordem decrescente de dívida\n",
        "df_devedor = df.groupBy('Devedor')\\\n",
        "               .agg(f.sum('Valor').alias('Divida'))\\\n",
        "               .orderBy(col(\"Divida\").desc())\n",
        "\n",
        "df_devedor.show()\n",
        "\n",
        "# Valor total das dívidas por credor, ordenado em ordem decrescente de dívida\n",
        "df_credor = df.groupBy('Credor')\\\n",
        "               .agg(f.sum('Valor').alias('Divida'))\\\n",
        "               .orderBy(col(\"Divida\").desc())\n",
        "\n",
        "df_credor.show()\n",
        "\n",
        "# Valor total das dívidas por mês no formato \"MM/yyyy\", ordenado em ordem crescente de data\n",
        "df_mes = df.groupBy(date_format('Data', 'MM/yyyy').alias('Mes'))\\\n",
        "               .agg(f.sum('Valor').alias('Divida'))\\\n",
        "               .orderBy(col(\"Mes\").asc())\n",
        "\n",
        "df_mes.show()"
      ],
      "metadata": {
        "id": "Fiz2JgzcUYuP",
        "colab": {
          "base_uri": "https://localhost:8080/"
        },
        "outputId": "8513c782-9bfd-49d6-a1a4-ce24e2241c09"
      },
      "execution_count": 56,
      "outputs": [
        {
          "output_type": "stream",
          "name": "stdout",
          "text": [
            "+---------+------+\n",
            "|  Devedor|Divida|\n",
            "+---------+------+\n",
            "|Devedor A| 300.0|\n",
            "|Devedor B| 200.0|\n",
            "|Devedor D| 175.0|\n",
            "|Devedor C| 175.0|\n",
            "+---------+------+\n",
            "\n",
            "+--------+------+\n",
            "|  Credor|Divida|\n",
            "+--------+------+\n",
            "|Credor 1| 500.0|\n",
            "|Credor 2| 350.0|\n",
            "+--------+------+\n",
            "\n",
            "+-------+------+\n",
            "|    Mes|Divida|\n",
            "+-------+------+\n",
            "|01/2021| 150.0|\n",
            "|02/2021| 200.0|\n",
            "|03/2021| 350.0|\n",
            "|04/2021| 150.0|\n",
            "+-------+------+\n",
            "\n"
          ]
        }
      ]
    },
    {
      "cell_type": "code",
      "source": [
        "# Como bônus, um dataframe com as seguintes informações:\n",
        "\n",
        "# Devedor: nome do devedor\n",
        "# Credor: nome do credor\n",
        "# Data: data da dívida (formato \"MM/yyyy\")\n",
        "# Divida: valor total das dívidas do mês\n",
        "\n",
        "# Bônus: dataframe com informações detalhadas\n",
        "df_detalhado = df.select(f.col('Devedor'),\\\n",
        "                          f.col('Credor'),\\\n",
        "                          date_format('Data', \"MM/yyyy\").alias('Mes'),\\\n",
        "                          f.col('Valor').alias('Valor'))\\\n",
        "               .withColumn(\"Divida\", f.col('Valor'))\n",
        "\n",
        "df_detalhado = df_detalhado.drop('Valor')\n",
        "\n",
        "df_detalhado.show()"
      ],
      "metadata": {
        "colab": {
          "base_uri": "https://localhost:8080/"
        },
        "id": "786k5jtDv4DR",
        "outputId": "adb24b7e-3cfb-495c-97d2-45d363f2c1ae"
      },
      "execution_count": 118,
      "outputs": [
        {
          "output_type": "stream",
          "name": "stdout",
          "text": [
            "+---------+--------+-------+------+\n",
            "|  Devedor|  Credor|    Mes|Divida|\n",
            "+---------+--------+-------+------+\n",
            "|Devedor A|Credor 1|01/2021| 100.0|\n",
            "|Devedor B|Credor 1|01/2021|  50.0|\n",
            "|Devedor C|Credor 2|02/2021|  75.0|\n",
            "|Devedor D|Credor 2|02/2021| 125.0|\n",
            "|Devedor A|Credor 1|03/2021| 200.0|\n",
            "|Devedor B|Credor 1|03/2021| 150.0|\n",
            "|Devedor C|Credor 2|04/2021| 100.0|\n",
            "|Devedor D|Credor 2|04/2021|  50.0|\n",
            "+---------+--------+-------+------+\n",
            "\n"
          ]
        }
      ]
    },
    {
      "cell_type": "code",
      "source": [
        "%%ipytest\n",
        "\n",
        "def test_df_devedor():\n",
        "    expected = [(\"Devedor A\", 300.0),\n",
        "                (\"Devedor B\", 200.0),\n",
        "                (\"Devedor D\", 175.0),\n",
        "                (\"Devedor C\", 175.0)]\n",
        "    result = [(row.Devedor, row.Divida) for row in df_devedor.collect()]\n",
        "    assert result == expected\n",
        "\n",
        "def test_df_credor():\n",
        "    expected = [(\"Credor 1\", 500.0),\n",
        "                (\"Credor 2\", 350.0)]\n",
        "    result = [(row.Credor, row.Divida) for row in df_credor.collect()]\n",
        "    assert result == expected\n",
        "\n",
        "def test_df_mes():\n",
        "    expected = [(\"01/2021\", 150.0), (\"02/2021\", 200.0), (\"03/2021\", 350.0), (\"04/2021\", 150.0)]\n",
        "    result = [(row.Mes, row.Divida) for row in df_mes.collect()]\n",
        "    assert result == expected\n",
        "\n",
        "def test_df_detalhado():\n",
        "    expected = [(\"Devedor A\", \"Credor 1\", \"01/2021\", 100.0),\n",
        "                (\"Devedor B\", \"Credor 1\", \"01/2021\", 50.0),\n",
        "                (\"Devedor C\", \"Credor 2\", \"02/2021\", 75.0),\n",
        "                (\"Devedor D\", \"Credor 2\", \"02/2021\", 125.0),\n",
        "                (\"Devedor A\", \"Credor 1\", \"03/2021\", 200.0),\n",
        "                (\"Devedor B\", \"Credor 1\", \"03/2021\", 150.0),\n",
        "                (\"Devedor C\", \"Credor 2\", \"04/2021\", 100.0),\n",
        "                (\"Devedor D\", \"Credor 2\", \"04/2021\", 50.0)]\n",
        "    result = [(row.Devedor, row.Credor, row.Mes, row.Divida) for row in df_detalhado.collect()]\n",
        "    assert result == expected"
      ],
      "metadata": {
        "colab": {
          "base_uri": "https://localhost:8080/"
        },
        "id": "QU29CCVHwHkA",
        "outputId": "6ae92a02-54e1-4f00-e970-1c527678be24"
      },
      "execution_count": 119,
      "outputs": [
        {
          "output_type": "stream",
          "name": "stdout",
          "text": [
            "\u001b[32m.\u001b[0m\u001b[32m.\u001b[0m\u001b[32m.\u001b[0m\u001b[32m.\u001b[0m\u001b[32m                                                                                         [100%]\u001b[0m\n",
            "\u001b[32m\u001b[32m\u001b[1m4 passed\u001b[0m\u001b[32m in 0.44s\u001b[0m\u001b[0m\n"
          ]
        }
      ]
    }
  ]
}